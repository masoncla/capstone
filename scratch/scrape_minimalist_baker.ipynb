{
 "cells": [
  {
   "cell_type": "code",
   "execution_count": 1,
   "metadata": {},
   "outputs": [],
   "source": [
    "from bs4 import BeautifulSoup\n",
    "import requests\n",
    "import urllib\n",
    "import os\n",
    "import re\n",
    "from urllib.request import urlopen\n",
    "\n",
    "import pandas as pd\n",
    "import numpy as np"
   ]
  },
  {
   "cell_type": "code",
   "execution_count": 2,
   "metadata": {},
   "outputs": [],
   "source": [
    "from scrape import make_soup"
   ]
  },
  {
   "cell_type": "code",
   "execution_count": 18,
   "metadata": {},
   "outputs": [],
   "source": [
    "soup1 = make_soup('https://minimalistbaker.com/recipes/')\n",
    "posts = soup1.find_all('a', class_=\"entry-title-link\")\n",
    "links = [post.get(\"href\") for post in posts]\n"
   ]
  },
  {
   "cell_type": "code",
   "execution_count": 10,
   "metadata": {},
   "outputs": [],
   "source": [
    "def get_recipe_links(url):\n",
    "    '''\n",
    "    Gets all links to recipe post on one archival page.\n",
    "    Returns list of strings containing the URLs\n",
    "    '''\n",
    "    soup = make_soup(url)\n",
    "    posts = soup.find_all('a', class_=\"entry-title-link\")\n",
    "    links = [post.get(\"href\") for post in posts]\n",
    "    return links"
   ]
  },
  {
   "cell_type": "markdown",
   "metadata": {},
   "source": [
    "Psuedocode for getting all recipe posts\n",
    "\n",
    "- for every page\n",
    "    - get the links for the posts on the page \n",
    "    - for every post on a page\n",
    "        - get the text body of that post\n",
    "        - save it into an array / dataframe\n",
    "    "
   ]
  },
  {
   "cell_type": "code",
   "execution_count": null,
   "metadata": {},
   "outputs": [],
   "source": []
  },
  {
   "cell_type": "code",
   "execution_count": 15,
   "metadata": {},
   "outputs": [],
   "source": [
    "def grab_body(url):\n",
    "    '''\n",
    "    INPUT: blog post url\n",
    "    OUTPUT: list of sentence strings\n",
    "    '''\n",
    "    soup = make_soup(url)\n",
    "    art = soup.article\n",
    "    recipe = art.find('div', class_=\"wprm-recipe-container\")\n",
    "    \n",
    "    recipe_start = str(recipe)[:30]\n",
    "    idx = str(art).index(recipe_start)\n",
    "    data = str(art)[:idx]\n",
    "    data = re.sub(r'<.*?>', '', data)\n",
    "    data = re.sub('\\xa0', '', data)\n",
    "    data = re.sub('\\n', ' ', data)\n",
    "    return data, soup.title.text\n"
   ]
  },
  {
   "cell_type": "code",
   "execution_count": 25,
   "metadata": {},
   "outputs": [],
   "source": [
    "def get_bodies_on_page(url):\n",
    "    df = pd.DataFrame(columns=['title', 'body', 'url'])\n",
    "    links = get_recipe_links(url)\n",
    "    for link in links:\n",
    "        body, title = grab_body(link)\n",
    "        A = pd.DataFrame([[title, body, url]], columns=['title', 'body', 'url'])\n",
    "        df = pd.concat([df,A], axis=0)\n",
    "    return df"
   ]
  },
  {
   "cell_type": "code",
   "execution_count": 23,
   "metadata": {},
   "outputs": [
    {
     "data": {
      "text/plain": [
       "[<a href=\"https://minimalistbaker.com/\" title=\"Minimalist Baker\"><img alt=\"Minimalist Baker\" height=\"103px\" src=\"https://minimalistbaker.com/wp-content/themes/baker/images/logo.png\" title=\"Minimalist Baker\" width=\"300px\"/></a>,\n",
       " <a href=\"https://minimalistbaker.com/about/\" itemprop=\"url\"><span itemprop=\"name\">about</span></a>,\n",
       " <a href=\"https://minimalistbaker.com/recipe-index/\" itemprop=\"url\"><span itemprop=\"name\">recipes</span></a>,\n",
       " <a href=\"https://minimalistbaker.com/product-category/cookbooks/\" itemprop=\"url\"><span itemprop=\"name\">Cookbooks</span></a>,\n",
       " <a href=\"https://minimalistbaker.com/everyday-cooking/\" itemprop=\"url\" target=\"_blank\"><span itemprop=\"name\">Everyday Cooking (print)</span></a>,\n",
       " <a href=\"https://minimalistbaker.com/shop/\" itemprop=\"url\"><span itemprop=\"name\">Shop</span></a>,\n",
       " <a href=\"https://minimalistbaker.com/resources/\" itemprop=\"url\"><span itemprop=\"name\">blogger resources</span></a>,\n",
       " <a href=\"https://minimalistbaker.com/product-category/products/\" itemprop=\"url\"><span itemprop=\"name\">Courses</span></a>,\n",
       " <a href=\"https://foodphotographyschool.com?nav\" itemprop=\"url\" target=\"_blank\"><span itemprop=\"name\">food photography school</span></a>,\n",
       " <a href=\"https://foodvideoschool.com?nav\" itemprop=\"url\" target=\"_blank\"><span itemprop=\"name\">food video school</span></a>,\n",
       " <a href=\"https://minimalistbaker.com/subscribe/\" itemprop=\"url\"><span itemprop=\"name\">Subscribe</span></a>,\n",
       " <a href=\"https://www.facebook.com/MinimalistBaker\" rel=\"noopener noreferrer\" target=\"_blank\"><svg aria-labelledby=\"social-facebook-4\" class=\"social-facebook\" role=\"img\"><title id=\"social-facebook-4\">Facebook</title><use xlink:href=\"https://minimalistbaker.com/wp-content/plugins/simple-social-icons/symbol-defs.svg#social-facebook\"></use></svg></a>,\n",
       " <a href=\"https://instagram.com/minimalistbaker/\" rel=\"noopener noreferrer\" target=\"_blank\"><svg aria-labelledby=\"social-instagram-4\" class=\"social-instagram\" role=\"img\"><title id=\"social-instagram-4\">Instagram</title><use xlink:href=\"https://minimalistbaker.com/wp-content/plugins/simple-social-icons/symbol-defs.svg#social-instagram\"></use></svg></a>,\n",
       " <a href=\"https://www.pinterest.com/minimalistbaker/\" rel=\"noopener noreferrer\" target=\"_blank\"><svg aria-labelledby=\"social-pinterest-4\" class=\"social-pinterest\" role=\"img\"><title id=\"social-pinterest-4\">Pinterest</title><use xlink:href=\"https://minimalistbaker.com/wp-content/plugins/simple-social-icons/symbol-defs.svg#social-pinterest\"></use></svg></a>,\n",
       " <a href=\"https://feeds.feedburner.com/MinimalistBaker/\" rel=\"noopener noreferrer\" target=\"_blank\"><svg aria-labelledby=\"social-rss-4\" class=\"social-rss\" role=\"img\"><title id=\"social-rss-4\">RSS</title><use xlink:href=\"https://minimalistbaker.com/wp-content/plugins/simple-social-icons/symbol-defs.svg#social-rss\"></use></svg></a>,\n",
       " <a href=\"https://twitter.com/minimalistbaker\" rel=\"noopener noreferrer\" target=\"_blank\"><svg aria-labelledby=\"social-twitter-4\" class=\"social-twitter\" role=\"img\"><title id=\"social-twitter-4\">Twitter</title><use xlink:href=\"https://minimalistbaker.com/wp-content/plugins/simple-social-icons/symbol-defs.svg#social-twitter\"></use></svg></a>,\n",
       " <a href=\"https://www.youtube.com/c/Minimalistbaker\" rel=\"noopener noreferrer\" target=\"_blank\"><svg aria-labelledby=\"social-youtube-4\" class=\"social-youtube\" role=\"img\"><title id=\"social-youtube-4\">YouTube</title><use xlink:href=\"https://minimalistbaker.com/wp-content/plugins/simple-social-icons/symbol-defs.svg#social-youtube\"></use></svg></a>,\n",
       " <a aria-hidden=\"true\" class=\"entry-image-link\" href=\"https://minimalistbaker.com/fluffy-vegan-scrambled-eggs/\" tabindex=\"-1\"><img alt=\"Using a rubber spatula to cook a vegan egg in a nonstick pan\" class=\"alignnone post-image entry-image\" data-lazy-src=\"https://minimalistbaker.com/wp-content/uploads/2019/01/FLUFFY-Vegan-Scrambled-Eggs-Made-with-REAL-FOOD-fiber-and-protein-rich-and-SO-delicious-vegan-glutenfree-recipe-breakfast-veganegg-minimalistbaker-9-422x502.jpg\" data-pin-description=\"FLUFFY Vegan Scrambled Eggs! Made with REAL FOOD, fiber and protein rich, and SO delicious! #vegan #glutenfree #recipe #breakfast #veganegg #minimalistbaker\" height=\"502\" itemprop=\"image\" src=\"data:image/gif;base64,R0lGODdhAQABAPAAAP///wAAACwAAAAAAQABAEACAkQBADs=\" width=\"422\"/><noscript><img alt=\"Using a rubber spatula to cook a vegan egg in a nonstick pan\" class=\"alignnone post-image entry-image\" data-pin-description=\"FLUFFY Vegan Scrambled Eggs! Made with REAL FOOD, fiber and protein rich, and SO delicious! #vegan #glutenfree #recipe #breakfast #veganegg #minimalistbaker\" height=\"502\" itemprop=\"image\" src=\"https://minimalistbaker.com/wp-content/uploads/2019/01/FLUFFY-Vegan-Scrambled-Eggs-Made-with-REAL-FOOD-fiber-and-protein-rich-and-SO-delicious-vegan-glutenfree-recipe-breakfast-veganegg-minimalistbaker-9-422x502.jpg\" width=\"422\"/></noscript></a>,\n",
       " <a class=\"entry-title-link\" href=\"https://minimalistbaker.com/fluffy-vegan-scrambled-eggs/\" rel=\"bookmark\">Fluffy Vegan Scrambled Eggs</a>,\n",
       " <a aria-hidden=\"true\" class=\"entry-image-link\" href=\"https://minimalistbaker.com/how-to-make-vegan-buttercream-frosting/\" tabindex=\"-1\"><img alt=\"Plate with cupcakes topped with simple Vegan Buttercream Frosting\" class=\"alignnone post-image entry-image\" data-lazy-src=\"https://minimalistbaker.com/wp-content/uploads/2019/03/PERFECT-Vegan-Buttercream-Frosting-EVERY-TIME-3-ingredients-10-minutes-FLUFFY-perfectly-sweet-vegan-buttercream-glutenfree-minimalistbaker-recipe-9-422x502.jpg\" data-pin-description=\"PERFECT Vegan Buttercream Frosting EVERY TIME! 3 ingredients, 10 minutes, FLUFFY, perfectly sweet! #vegan #buttercream #glutenfree #minimalistbaker #recipe\" height=\"502\" itemprop=\"image\" src=\"data:image/gif;base64,R0lGODdhAQABAPAAAP///wAAACwAAAAAAQABAEACAkQBADs=\" width=\"422\"/><noscript><img alt=\"Plate with cupcakes topped with simple Vegan Buttercream Frosting\" class=\"alignnone post-image entry-image\" data-pin-description=\"PERFECT Vegan Buttercream Frosting EVERY TIME! 3 ingredients, 10 minutes, FLUFFY, perfectly sweet! #vegan #buttercream #glutenfree #minimalistbaker #recipe\" height=\"502\" itemprop=\"image\" src=\"https://minimalistbaker.com/wp-content/uploads/2019/03/PERFECT-Vegan-Buttercream-Frosting-EVERY-TIME-3-ingredients-10-minutes-FLUFFY-perfectly-sweet-vegan-buttercream-glutenfree-minimalistbaker-recipe-9-422x502.jpg\" width=\"422\"/></noscript></a>,\n",
       " <a class=\"entry-title-link\" href=\"https://minimalistbaker.com/how-to-make-vegan-buttercream-frosting/\" rel=\"bookmark\">How to Make Vegan Buttercream Frosting</a>,\n",
       " <a aria-hidden=\"true\" class=\"entry-image-link\" href=\"https://minimalistbaker.com/baked-crispy-peanut-tofu/\" tabindex=\"-1\"><img alt=\"Metal platter filled with a batch of our Crispy Peanut Tofu recipe\" class=\"alignnone post-image entry-image\" data-lazy-src=\"https://minimalistbaker.com/wp-content/uploads/2018/10/Quick-Easy-Peanut-Tofu-Ready-in-30-minutes-simple-methods-BIG-flavor-vegan-glutenfree-peanut-tofu-minimalistbaker-recipe-16-422x502.jpg\" data-pin-description=\"Quick &amp; Easy Peanut Tofu! Ready in 30 minutes, simple methods, BIG flavor! #vegan #glutenfree #peanut #tofu #minimalistbaker #recipe\" height=\"502\" itemprop=\"image\" src=\"data:image/gif;base64,R0lGODdhAQABAPAAAP///wAAACwAAAAAAQABAEACAkQBADs=\" width=\"422\"/><noscript><img alt=\"Metal platter filled with a batch of our Crispy Peanut Tofu recipe\" class=\"alignnone post-image entry-image\" data-pin-description=\"Quick &amp; Easy Peanut Tofu! Ready in 30 minutes, simple methods, BIG flavor! #vegan #glutenfree #peanut #tofu #minimalistbaker #recipe\" height=\"502\" itemprop=\"image\" src=\"https://minimalistbaker.com/wp-content/uploads/2018/10/Quick-Easy-Peanut-Tofu-Ready-in-30-minutes-simple-methods-BIG-flavor-vegan-glutenfree-peanut-tofu-minimalistbaker-recipe-16-422x502.jpg\" width=\"422\"/></noscript></a>,\n",
       " <a class=\"entry-title-link\" href=\"https://minimalistbaker.com/baked-crispy-peanut-tofu/\" rel=\"bookmark\">Baked Crispy Peanut Tofu</a>,\n",
       " <a aria-hidden=\"true\" class=\"entry-image-link\" href=\"https://minimalistbaker.com/lazy-1-pot-vegan-tom-yum-soup/\" tabindex=\"-1\"><img alt=\"Holding a bowl of nourishing vegan Tom Yum soup\" class=\"alignnone post-image entry-image\" data-lazy-src=\"https://minimalistbaker.com/wp-content/uploads/2019/01/LAZY-1-Pot-Vegan-Tom-Yum-Soup-made-with-ingredients-you-likely-have-on-hand-right-now-Plus-BIG-flavor-vegan-glutenfree-recipe-soup-tomyum-minimalistbaker-10-422x502.jpg\" data-pin-description=\"LAZY 1-Pot Vegan Tom Yum Soup made with ingredients you likely have on hand right now! Plus, BIG flavor! #vegan #glutenfree #recipe #soup #tomyum #minimalistbaker\" height=\"502\" itemprop=\"image\" src=\"data:image/gif;base64,R0lGODdhAQABAPAAAP///wAAACwAAAAAAQABAEACAkQBADs=\" width=\"422\"/><noscript><img alt=\"Holding a bowl of nourishing vegan Tom Yum soup\" class=\"alignnone post-image entry-image\" data-pin-description=\"LAZY 1-Pot Vegan Tom Yum Soup made with ingredients you likely have on hand right now! Plus, BIG flavor! #vegan #glutenfree #recipe #soup #tomyum #minimalistbaker\" height=\"502\" itemprop=\"image\" src=\"https://minimalistbaker.com/wp-content/uploads/2019/01/LAZY-1-Pot-Vegan-Tom-Yum-Soup-made-with-ingredients-you-likely-have-on-hand-right-now-Plus-BIG-flavor-vegan-glutenfree-recipe-soup-tomyum-minimalistbaker-10-422x502.jpg\" width=\"422\"/></noscript></a>,\n",
       " <a class=\"entry-title-link\" href=\"https://minimalistbaker.com/lazy-1-pot-vegan-tom-yum-soup/\" rel=\"bookmark\">Lazy 1-Pot Vegan Tom Yum Soup</a>,\n",
       " <a aria-hidden=\"true\" class=\"entry-image-link\" href=\"https://minimalistbaker.com/1-bowl-chocolate-chip-banana-baked-oatmeal/\" tabindex=\"-1\"><img alt=\"Overhead image of banana baked oatmeal with chocolate and nuts and hands holding the sides of the dish\" class=\"alignnone post-image entry-image\" data-lazy-src=\"https://minimalistbaker.com/wp-content/uploads/2018/12/DELICIOUS-Banana-Chocolate-Baked-Oatmeal-Naturally-sweetened-and-easy-to-make-ahead-and-enjoy-throughout-the-week-vegan-glutenfree-recipe-oatmeal-banana-minimalistbaker-84-422x502.jpg\" data-pin-description=\"DELICIOUS Banana Chocolate Baked Oatmeal! Naturally-sweetened and easy to make ahead and enjoy throughout the week #vegan #glutenfree #recipe #oatmeal #banana #minimalistbaker\" height=\"502\" itemprop=\"image\" src=\"data:image/gif;base64,R0lGODdhAQABAPAAAP///wAAACwAAAAAAQABAEACAkQBADs=\" width=\"422\"/><noscript><img alt=\"Overhead image of banana baked oatmeal with chocolate and nuts and hands holding the sides of the dish\" class=\"alignnone post-image entry-image\" data-pin-description=\"DELICIOUS Banana Chocolate Baked Oatmeal! Naturally-sweetened and easy to make ahead and enjoy throughout the week #vegan #glutenfree #recipe #oatmeal #banana #minimalistbaker\" height=\"502\" itemprop=\"image\" src=\"https://minimalistbaker.com/wp-content/uploads/2018/12/DELICIOUS-Banana-Chocolate-Baked-Oatmeal-Naturally-sweetened-and-easy-to-make-ahead-and-enjoy-throughout-the-week-vegan-glutenfree-recipe-oatmeal-banana-minimalistbaker-84-422x502.jpg\" width=\"422\"/></noscript></a>,\n",
       " <a class=\"entry-title-link\" href=\"https://minimalistbaker.com/1-bowl-chocolate-chip-banana-baked-oatmeal/\" rel=\"bookmark\">1-Bowl Chocolate Chip Banana Baked Oatmeal</a>,\n",
       " <a aria-hidden=\"true\" class=\"entry-image-link\" href=\"https://minimalistbaker.com/easy-vegan-lasagna/\" tabindex=\"-1\"><img alt=\"Baking pan filled with a batch of our Easy Vegan Lasagna recipe\" class=\"alignnone post-image entry-image\" data-lazy-src=\"https://minimalistbaker.com/wp-content/uploads/2019/02/AMAZING-Easy-Vegan-Lasagna-10-ingredients-BIG-flavor-simple-methods-SO-delicious-vegan-glutenfree-recipe-lasagna-minimalistbaker-16-422x502.jpg\" data-pin-description=\"AMAZING Easy Vegan Lasagna! 10 ingredients, BIG flavor, simple methods, SO delicious! #vegan #glutenfree #recipe #lasagna #minimalistbaker\" height=\"502\" itemprop=\"image\" src=\"data:image/gif;base64,R0lGODdhAQABAPAAAP///wAAACwAAAAAAQABAEACAkQBADs=\" width=\"422\"/><noscript><img alt=\"Baking pan filled with a batch of our Easy Vegan Lasagna recipe\" class=\"alignnone post-image entry-image\" data-pin-description=\"AMAZING Easy Vegan Lasagna! 10 ingredients, BIG flavor, simple methods, SO delicious! #vegan #glutenfree #recipe #lasagna #minimalistbaker\" height=\"502\" itemprop=\"image\" src=\"https://minimalistbaker.com/wp-content/uploads/2019/02/AMAZING-Easy-Vegan-Lasagna-10-ingredients-BIG-flavor-simple-methods-SO-delicious-vegan-glutenfree-recipe-lasagna-minimalistbaker-16-422x502.jpg\" width=\"422\"/></noscript></a>,\n",
       " <a class=\"entry-title-link\" href=\"https://minimalistbaker.com/easy-vegan-lasagna/\" rel=\"bookmark\">Easy Vegan Lasagna</a>,\n",
       " <a aria-hidden=\"true\" class=\"entry-image-link\" href=\"https://minimalistbaker.com/30-minute-potato-cauliflower-red-lentil-curry/\" tabindex=\"-1\"><img alt=\"Large pan filled with gluten-free vegan Cauliflower Potato Red Lentil Curry\" class=\"alignnone post-image entry-image\" data-lazy-src=\"https://minimalistbaker.com/wp-content/uploads/2018/10/AMAZING-Cauliflower-Potato-Red-Lentil-Curry-30-minutes-wholesome-ingredients-EASY-SO-flavorful-vegan-glutenfree-potato-lentil-curry-minimalistbaker-recipe-6-422x502.jpg\" data-pin-description=\"AMAZING Cauliflower Potato Red Lentil Curry! 30 minutes, wholesome ingredients, EASY + SO flavorful! #vegan #glutenfree #potato #lentil #curry #minimalistbaker #recipe\" height=\"502\" itemprop=\"image\" src=\"data:image/gif;base64,R0lGODdhAQABAPAAAP///wAAACwAAAAAAQABAEACAkQBADs=\" width=\"422\"/><noscript><img alt=\"Large pan filled with gluten-free vegan Cauliflower Potato Red Lentil Curry\" class=\"alignnone post-image entry-image\" data-pin-description=\"AMAZING Cauliflower Potato Red Lentil Curry! 30 minutes, wholesome ingredients, EASY + SO flavorful! #vegan #glutenfree #potato #lentil #curry #minimalistbaker #recipe\" height=\"502\" itemprop=\"image\" src=\"https://minimalistbaker.com/wp-content/uploads/2018/10/AMAZING-Cauliflower-Potato-Red-Lentil-Curry-30-minutes-wholesome-ingredients-EASY-SO-flavorful-vegan-glutenfree-potato-lentil-curry-minimalistbaker-recipe-6-422x502.jpg\" width=\"422\"/></noscript></a>,\n",
       " <a class=\"entry-title-link\" href=\"https://minimalistbaker.com/30-minute-potato-cauliflower-red-lentil-curry/\" rel=\"bookmark\">30-Minute Potato Cauliflower Red Lentil Curry</a>,\n",
       " <a aria-hidden=\"true\" class=\"entry-image-link\" href=\"https://minimalistbaker.com/1-bowl-vegan-gluten-free-banana-bread/\" tabindex=\"-1\"><img alt=\"\" class=\"alignnone post-image entry-image\" data-lazy-src=\"https://minimalistbaker.com/wp-content/uploads/2018/12/PERFECT-Vegan-Gluten-Free-Banana-Bread-1-bowl-simple-ingredients-naturally-sweetened-and-fluffy-vegan-glutenfree-recipe-breakfast-bananabread-minimalistbaker-16-422x502.jpg\" height=\"502\" itemprop=\"image\" src=\"data:image/gif;base64,R0lGODdhAQABAPAAAP///wAAACwAAAAAAQABAEACAkQBADs=\" width=\"422\"/><noscript><img alt=\"\" class=\"alignnone post-image entry-image\" height=\"502\" itemprop=\"image\" src=\"https://minimalistbaker.com/wp-content/uploads/2018/12/PERFECT-Vegan-Gluten-Free-Banana-Bread-1-bowl-simple-ingredients-naturally-sweetened-and-fluffy-vegan-glutenfree-recipe-breakfast-bananabread-minimalistbaker-16-422x502.jpg\" width=\"422\"/></noscript></a>,\n",
       " <a class=\"entry-title-link\" href=\"https://minimalistbaker.com/1-bowl-vegan-gluten-free-banana-bread/\" rel=\"bookmark\">1-Bowl Vegan Gluten-Free Banana Bread</a>,\n",
       " <a aria-hidden=\"true\" class=\"entry-image-link\" href=\"https://minimalistbaker.com/how-to-make-pour-over-coffee/\" tabindex=\"-1\"><img alt=\"Pouring hot water through a coffee filter\" class=\"alignnone post-image entry-image\" data-lazy-src=\"https://minimalistbaker.com/wp-content/uploads/2019/01/Step-by-Step-instructions-for-How-to-Make-Pourover-Coffee-minimalistbaker-coffee-3-422x502.jpg\" data-pin-description=\"Step by Step instructions for How to Make Pourover Coffee! #minimalistbaker #coffee\" height=\"502\" itemprop=\"image\" src=\"data:image/gif;base64,R0lGODdhAQABAPAAAP///wAAACwAAAAAAQABAEACAkQBADs=\" width=\"422\"/><noscript><img alt=\"Pouring hot water through a coffee filter\" class=\"alignnone post-image entry-image\" data-pin-description=\"Step by Step instructions for How to Make Pourover Coffee! #minimalistbaker #coffee\" height=\"502\" itemprop=\"image\" src=\"https://minimalistbaker.com/wp-content/uploads/2019/01/Step-by-Step-instructions-for-How-to-Make-Pourover-Coffee-minimalistbaker-coffee-3-422x502.jpg\" width=\"422\"/></noscript></a>,\n",
       " <a class=\"entry-title-link\" href=\"https://minimalistbaker.com/how-to-make-pour-over-coffee/\" rel=\"bookmark\">How to Make Pour-Over Coffee</a>,\n",
       " <a aria-hidden=\"true\" class=\"entry-image-link\" href=\"https://minimalistbaker.com/vegan-palak-paneer-with-curried-tofu/\" tabindex=\"-1\"><img alt=\"Metal tray filled with a batch of Vegan Tofu Palak Paneer\" class=\"alignnone post-image entry-image\" data-lazy-src=\"https://minimalistbaker.com/wp-content/uploads/2018/10/AMAZING-Vegan-Palak-Paneer-with-Tofu-30-minutes-wholesome-ingredients-EASY-BIG-flavor-vegan-glutenfree-palakpaneer-tofu-curry-minimalistbaker-recipe-7-422x502.jpg\" data-pin-description=\"AMAZING Vegan Palak Paneer with Tofu! 30 minutes, wholesome ingredients, EASY + BIG flavor! #vegan #glutenfree #palakpaneer #tofu #curry #minimalistbaker #recipe\" height=\"502\" itemprop=\"image\" src=\"data:image/gif;base64,R0lGODdhAQABAPAAAP///wAAACwAAAAAAQABAEACAkQBADs=\" width=\"422\"/><noscript><img alt=\"Metal tray filled with a batch of Vegan Tofu Palak Paneer\" class=\"alignnone post-image entry-image\" data-pin-description=\"AMAZING Vegan Palak Paneer with Tofu! 30 minutes, wholesome ingredients, EASY + BIG flavor! #vegan #glutenfree #palakpaneer #tofu #curry #minimalistbaker #recipe\" height=\"502\" itemprop=\"image\" src=\"https://minimalistbaker.com/wp-content/uploads/2018/10/AMAZING-Vegan-Palak-Paneer-with-Tofu-30-minutes-wholesome-ingredients-EASY-BIG-flavor-vegan-glutenfree-palakpaneer-tofu-curry-minimalistbaker-recipe-7-422x502.jpg\" width=\"422\"/></noscript></a>,\n",
       " <a class=\"entry-title-link\" href=\"https://minimalistbaker.com/vegan-palak-paneer-with-curried-tofu/\" rel=\"bookmark\">Vegan Palak Paneer with Curried Tofu</a>,\n",
       " <a aria-hidden=\"true\" class=\"entry-image-link\" href=\"https://minimalistbaker.com/1-pan-tempeh-bolognese/\" tabindex=\"-1\"><img alt=\"Overhead image of tempeh bolognese in a pan with ingredients in the top right corner, a wooden spoon resting in the pan, and parsley as garnish\" class=\"alignnone post-image entry-image\" data-lazy-src=\"https://minimalistbaker.com/wp-content/uploads/2018/10/PERFECT-1-Pan-Tempeh-Bolognese-Hearty-flavorful-ready-in-30-minutes-vegan-glutenfree-pasta-marinara-tempeh-minimalistbaker-recipe-4-422x502.jpg\" data-pin-description=\"PERFECT 1-Pan Tempeh Bolognese! Hearty, flavorful, ready in 30 minutes! #vegan #glutenfree #pasta #marinara #tempeh #minimalistbaker #recipe\" height=\"502\" itemprop=\"image\" src=\"data:image/gif;base64,R0lGODdhAQABAPAAAP///wAAACwAAAAAAQABAEACAkQBADs=\" width=\"422\"/><noscript><img alt=\"Overhead image of tempeh bolognese in a pan with ingredients in the top right corner, a wooden spoon resting in the pan, and parsley as garnish\" class=\"alignnone post-image entry-image\" data-pin-description=\"PERFECT 1-Pan Tempeh Bolognese! Hearty, flavorful, ready in 30 minutes! #vegan #glutenfree #pasta #marinara #tempeh #minimalistbaker #recipe\" height=\"502\" itemprop=\"image\" src=\"https://minimalistbaker.com/wp-content/uploads/2018/10/PERFECT-1-Pan-Tempeh-Bolognese-Hearty-flavorful-ready-in-30-minutes-vegan-glutenfree-pasta-marinara-tempeh-minimalistbaker-recipe-4-422x502.jpg\" width=\"422\"/></noscript></a>,\n",
       " <a class=\"entry-title-link\" href=\"https://minimalistbaker.com/1-pan-tempeh-bolognese/\" rel=\"bookmark\">1-Pan Tempeh Bolognese</a>,\n",
       " <a aria-hidden=\"true\" class=\"entry-image-link\" href=\"https://minimalistbaker.com/warming-winter-smoothie/\" tabindex=\"-1\"><img alt=\"Parallel image of warming winter green smoothie with spinach and turmeric garnish\" class=\"alignnone post-image entry-image\" data-lazy-src=\"https://minimalistbaker.com/wp-content/uploads/2018/12/WARMING-Green-Smoothie-perfect-for-winter-and-cold-temps-Warming-spices-veggies-and-fruit-undetectably-wholesome-vegan-glutenfree-recipe-breakfast-greensmoothie-minimalistbaker-8-422x502.jpg\" data-pin-description=\"WARMING Green Smoothie perfect for winter and cold temps! Warming spices, veggies and fruit, undetectably wholesome! #vegan #glutenfree #recipe #breakfast #greensmoothie #minimalistbaker\" height=\"502\" itemprop=\"image\" src=\"data:image/gif;base64,R0lGODdhAQABAPAAAP///wAAACwAAAAAAQABAEACAkQBADs=\" width=\"422\"/><noscript><img alt=\"Parallel image of warming winter green smoothie with spinach and turmeric garnish\" class=\"alignnone post-image entry-image\" data-pin-description=\"WARMING Green Smoothie perfect for winter and cold temps! Warming spices, veggies and fruit, undetectably wholesome! #vegan #glutenfree #recipe #breakfast #greensmoothie #minimalistbaker\" height=\"502\" itemprop=\"image\" src=\"https://minimalistbaker.com/wp-content/uploads/2018/12/WARMING-Green-Smoothie-perfect-for-winter-and-cold-temps-Warming-spices-veggies-and-fruit-undetectably-wholesome-vegan-glutenfree-recipe-breakfast-greensmoothie-minimalistbaker-8-422x502.jpg\" width=\"422\"/></noscript></a>,\n",
       " <a class=\"entry-title-link\" href=\"https://minimalistbaker.com/warming-winter-smoothie/\" rel=\"bookmark\">Warming Winter Smoothie</a>,\n",
       " <a aria-hidden=\"true\" class=\"entry-image-link\" href=\"https://minimalistbaker.com/my-go-to-guacamole/\" tabindex=\"-1\"><img alt=\"Overhead image of guacamole in a white bowl and a hand scooping some guacamole with a chip\" class=\"alignnone post-image entry-image\" data-lazy-src=\"https://minimalistbaker.com/wp-content/uploads/2018/12/PERFECT-Guacamole-every-time-with-just-8-ingredients-1-bowl-and-10-minutes-vegan-glutenfree-recipe-guacamole-minimalistbaker-37-422x502.jpg\" data-pin-description=\"PERFECT Guacamole every time with just 8 ingredients, 1 bowl, and 10 minutes! #vegan #glutenfree #recipe #guacamole #minimalistbaker\" height=\"502\" itemprop=\"image\" src=\"data:image/gif;base64,R0lGODdhAQABAPAAAP///wAAACwAAAAAAQABAEACAkQBADs=\" width=\"422\"/><noscript><img alt=\"Overhead image of guacamole in a white bowl and a hand scooping some guacamole with a chip\" class=\"alignnone post-image entry-image\" data-pin-description=\"PERFECT Guacamole every time with just 8 ingredients, 1 bowl, and 10 minutes! #vegan #glutenfree #recipe #guacamole #minimalistbaker\" height=\"502\" itemprop=\"image\" src=\"https://minimalistbaker.com/wp-content/uploads/2018/12/PERFECT-Guacamole-every-time-with-just-8-ingredients-1-bowl-and-10-minutes-vegan-glutenfree-recipe-guacamole-minimalistbaker-37-422x502.jpg\" width=\"422\"/></noscript></a>,\n",
       " <a class=\"entry-title-link\" href=\"https://minimalistbaker.com/my-go-to-guacamole/\" rel=\"bookmark\">My Go-To Guacamole</a>,\n",
       " <a aria-hidden=\"true\" class=\"entry-image-link\" href=\"https://minimalistbaker.com/easy-diy-harissa-paste/\" tabindex=\"-1\"><img alt=\"Straight on image of harissa paste in a white dish on a metal tray with garlic in the background\" class=\"alignnone post-image entry-image\" data-lazy-src=\"https://minimalistbaker.com/wp-content/uploads/2018/12/EASY-Harissa-Recipe-with-simple-ingredients-and-methods-ready-in-30-minutes-Perfect-for-adding-smoky-heat-to-sauces-dressings-soups-and-more-vegan-glutenfree-recipe-sauce-harissa-minimalistbaker-14-422x502.jpg\" data-pin-description=\"EASY Harissa Recipe with simple ingredients and methods, ready in 30 minutes! Perfect for adding smoky heat to sauces, dressings, soups, and more! #vegan #glutenfree #recipe #sauce #harissa #minimalistbaker\" height=\"502\" itemprop=\"image\" src=\"data:image/gif;base64,R0lGODdhAQABAPAAAP///wAAACwAAAAAAQABAEACAkQBADs=\" width=\"422\"/><noscript><img alt=\"Straight on image of harissa paste in a white dish on a metal tray with garlic in the background\" class=\"alignnone post-image entry-image\" data-pin-description=\"EASY Harissa Recipe with simple ingredients and methods, ready in 30 minutes! Perfect for adding smoky heat to sauces, dressings, soups, and more! #vegan #glutenfree #recipe #sauce #harissa #minimalistbaker\" height=\"502\" itemprop=\"image\" src=\"https://minimalistbaker.com/wp-content/uploads/2018/12/EASY-Harissa-Recipe-with-simple-ingredients-and-methods-ready-in-30-minutes-Perfect-for-adding-smoky-heat-to-sauces-dressings-soups-and-more-vegan-glutenfree-recipe-sauce-harissa-minimalistbaker-14-422x502.jpg\" width=\"422\"/></noscript></a>,\n",
       " <a class=\"entry-title-link\" href=\"https://minimalistbaker.com/easy-diy-harissa-paste/\" rel=\"bookmark\">Easy DIY Harissa Paste</a>,\n",
       " <a aria-hidden=\"true\" class=\"entry-image-link\" href=\"https://minimalistbaker.com/easy-1-pot-black-bean-soup/\" tabindex=\"-1\"><img alt=\"Overhead image of two bowls of black bean soup with rice, a blue towel and spoon on the side, and small cutting board with ingredients\" class=\"alignnone post-image entry-image\" data-lazy-src=\"https://minimalistbaker.com/wp-content/uploads/2018/10/DELICIOUS-1-Pot-Black-Bean-Soup-30-minutes-10-ingredients-SO-hearty-and-satisfying-vegan-glutenfree-blackbean-soup-minimalistbaker-recipe-3-422x502.jpg\" data-pin-description=\"DELICIOUS 1-Pot Black Bean Soup! 30 minutes, 10 ingredients, SO hearty and satisfying! #vegan #glutenfree #blackbean #soup #minimalistbaker #recipe\" height=\"502\" itemprop=\"image\" src=\"data:image/gif;base64,R0lGODdhAQABAPAAAP///wAAACwAAAAAAQABAEACAkQBADs=\" width=\"422\"/><noscript><img alt=\"Overhead image of two bowls of black bean soup with rice, a blue towel and spoon on the side, and small cutting board with ingredients\" class=\"alignnone post-image entry-image\" data-pin-description=\"DELICIOUS 1-Pot Black Bean Soup! 30 minutes, 10 ingredients, SO hearty and satisfying! #vegan #glutenfree #blackbean #soup #minimalistbaker #recipe\" height=\"502\" itemprop=\"image\" src=\"https://minimalistbaker.com/wp-content/uploads/2018/10/DELICIOUS-1-Pot-Black-Bean-Soup-30-minutes-10-ingredients-SO-hearty-and-satisfying-vegan-glutenfree-blackbean-soup-minimalistbaker-recipe-3-422x502.jpg\" width=\"422\"/></noscript></a>,\n",
       " <a class=\"entry-title-link\" href=\"https://minimalistbaker.com/easy-1-pot-black-bean-soup/\" rel=\"bookmark\">Easy 1-Pot Black Bean Soup</a>,\n",
       " <a aria-hidden=\"true\" class=\"entry-image-link\" href=\"https://minimalistbaker.com/5-minute-mushroom-latte-2-ways/\" tabindex=\"-1\"><img alt=\"Hot cacao mushroom lattes on a cutting board with small spoon holding cacao powder in front and mushrooms near the back\" class=\"alignnone post-image entry-image\" data-lazy-src=\"https://minimalistbaker.com/wp-content/uploads/2018/12/AMAZING-Mushroom-Latte-2-Ways-One-with-coffee-one-with-cacao.-Delicious-warming-6-ingredient-drinks-with-health-benefits-vegan-glutenfree-recipe-coffee-mushroom-chocolate-minimalistbaker-13-422x502.jpg\" data-pin-description=\"AMAZING Mushroom Latte 2 Ways! One with coffee, one with cacao. Delicious, warming, 6-ingredient drinks with health benefits! #vegan #glutenfree #recipe #coffee #mushroom #chocolate #minimalistbaker\" height=\"502\" itemprop=\"image\" src=\"data:image/gif;base64,R0lGODdhAQABAPAAAP///wAAACwAAAAAAQABAEACAkQBADs=\" width=\"422\"/><noscript><img alt=\"Hot cacao mushroom lattes on a cutting board with small spoon holding cacao powder in front and mushrooms near the back\" class=\"alignnone post-image entry-image\" data-pin-description=\"AMAZING Mushroom Latte 2 Ways! One with coffee, one with cacao. Delicious, warming, 6-ingredient drinks with health benefits! #vegan #glutenfree #recipe #coffee #mushroom #chocolate #minimalistbaker\" height=\"502\" itemprop=\"image\" src=\"https://minimalistbaker.com/wp-content/uploads/2018/12/AMAZING-Mushroom-Latte-2-Ways-One-with-coffee-one-with-cacao.-Delicious-warming-6-ingredient-drinks-with-health-benefits-vegan-glutenfree-recipe-coffee-mushroom-chocolate-minimalistbaker-13-422x502.jpg\" width=\"422\"/></noscript></a>,\n",
       " <a class=\"entry-title-link\" href=\"https://minimalistbaker.com/5-minute-mushroom-latte-2-ways/\" rel=\"bookmark\">5-Minute Mushroom Latte (2 Ways!)</a>,\n",
       " <a aria-current=\"page\" aria-label=\"Current page\" href=\"https://minimalistbaker.com/recipes/\">1</a>,\n",
       " <a href=\"https://minimalistbaker.com/recipes/page/2/\">2</a>,\n",
       " <a href=\"https://minimalistbaker.com/recipes/page/3/\">3</a>,\n",
       " <a href=\"https://minimalistbaker.com/recipes/page/60/\">60</a>,\n",
       " <a href=\"https://minimalistbaker.com/recipes/page/2/\">Prior Deliciousness →</a>,\n",
       " <a href=\"https://minimalistbaker.com/about/\">About Minimalist Baker→</a>,\n",
       " <a href=\"https://www.facebook.com/MinimalistBaker\" rel=\"noopener noreferrer\" target=\"_blank\"><svg aria-labelledby=\"social-facebook-2\" class=\"social-facebook\" role=\"img\"><title id=\"social-facebook-2\">Facebook</title><use xlink:href=\"https://minimalistbaker.com/wp-content/plugins/simple-social-icons/symbol-defs.svg#social-facebook\"></use></svg></a>,\n",
       " <a href=\"https://instagram.com/minimalistbaker/\" rel=\"noopener noreferrer\" target=\"_blank\"><svg aria-labelledby=\"social-instagram-2\" class=\"social-instagram\" role=\"img\"><title id=\"social-instagram-2\">Instagram</title><use xlink:href=\"https://minimalistbaker.com/wp-content/plugins/simple-social-icons/symbol-defs.svg#social-instagram\"></use></svg></a>,\n",
       " <a href=\"https://www.pinterest.com/minimalistbaker/\" rel=\"noopener noreferrer\" target=\"_blank\"><svg aria-labelledby=\"social-pinterest-2\" class=\"social-pinterest\" role=\"img\"><title id=\"social-pinterest-2\">Pinterest</title><use xlink:href=\"https://minimalistbaker.com/wp-content/plugins/simple-social-icons/symbol-defs.svg#social-pinterest\"></use></svg></a>,\n",
       " <a href=\"https://feeds.feedburner.com/MinimalistBaker/\" rel=\"noopener noreferrer\" target=\"_blank\"><svg aria-labelledby=\"social-rss-2\" class=\"social-rss\" role=\"img\"><title id=\"social-rss-2\">RSS</title><use xlink:href=\"https://minimalistbaker.com/wp-content/plugins/simple-social-icons/symbol-defs.svg#social-rss\"></use></svg></a>,\n",
       " <a href=\"https://twitter.com/minimalistbaker\" rel=\"noopener noreferrer\" target=\"_blank\"><svg aria-labelledby=\"social-twitter-2\" class=\"social-twitter\" role=\"img\"><title id=\"social-twitter-2\">Twitter</title><use xlink:href=\"https://minimalistbaker.com/wp-content/plugins/simple-social-icons/symbol-defs.svg#social-twitter\"></use></svg></a>,\n",
       " <a href=\"https://www.youtube.com/c/Minimalistbaker\" rel=\"noopener noreferrer\" target=\"_blank\"><svg aria-labelledby=\"social-youtube-2\" class=\"social-youtube\" role=\"img\"><title id=\"social-youtube-2\">YouTube</title><use xlink:href=\"https://minimalistbaker.com/wp-content/plugins/simple-social-icons/symbol-defs.svg#social-youtube\"></use></svg></a>,\n",
       " <a href=\"https://app.monstercampaigns.com/c/pcsyhy2jaisunpx5nw97/\" target=\"_blank\"><h4 class=\"widget-title widgettitle\" style=\"cursor:pointer;\">subscribe for email updates</h4></a>,\n",
       " <a href=\"https://app.monstercampaigns.com/c/pcsyhy2jaisunpx5nw97/\" target=\"_blank\"><img alt=\"Get Our Fan Favorites eBook Here!\" data-lazy-src=\"https://minimalistbaker.com/wp-content/uploads/2018/03/MB_Fan-Favorites-Vertical-Banner.jpg\" nopin=\"nopin\" src=\"data:image/gif;base64,R0lGODdhAQABAPAAAP///wAAACwAAAAAAQABAEACAkQBADs=\" style=\"cursor:pointer;\"/><noscript><img alt=\"Get Our Fan Favorites eBook Here!\" nopin=\"nopin\" src=\"https://minimalistbaker.com/wp-content/uploads/2018/03/MB_Fan-Favorites-Vertical-Banner.jpg\" style=\"cursor:pointer;\"/></noscript></a>,\n",
       " <a href=\"https://minimalistbaker.com\">Minimalistbaker.com</a>,\n",
       " <a href=\"https://minimalistbaker.com/terms/\">Terms</a>,\n",
       " <a href=\"https://minimalistbaker.com/privacy/\">Privacy</a>,\n",
       " <a href=\"https://minimalistbaker.com/resources/\">Blogger Resources</a>]"
      ]
     },
     "execution_count": 23,
     "metadata": {},
     "output_type": "execute_result"
    }
   ],
   "source": [
    "def scrape_mb(url):\n",
    "    data = pd.DataFrame(columns=['title','body','url'])\n",
    "    data = pd.concat([data, get_bodies_on_page(url)], axis=0)\n",
    "    for n in range(2, 61):\n",
    "        url = 'https://minimalistbaker.com/recipes/{}/'.format(i)\n",
    "        df = get_bodies_on_page(url)\n",
    "        data = pd.concat([data, df], axis=0)\n",
    "    "
   ]
  },
  {
   "cell_type": "code",
   "execution_count": null,
   "metadata": {},
   "outputs": [],
   "source": []
  }
 ],
 "metadata": {
  "kernelspec": {
   "display_name": "Python 3",
   "language": "python",
   "name": "python3"
  },
  "language_info": {
   "codemirror_mode": {
    "name": "ipython",
    "version": 3
   },
   "file_extension": ".py",
   "mimetype": "text/x-python",
   "name": "python",
   "nbconvert_exporter": "python",
   "pygments_lexer": "ipython3",
   "version": "3.6.7"
  }
 },
 "nbformat": 4,
 "nbformat_minor": 2
}
