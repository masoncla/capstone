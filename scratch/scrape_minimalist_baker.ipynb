{
 "cells": [
  {
   "cell_type": "code",
   "execution_count": 1,
   "metadata": {},
   "outputs": [],
   "source": [
    "from bs4 import BeautifulSoup\n",
    "import requests\n",
    "import urllib\n",
    "import os\n",
    "import re\n",
    "from urllib.request import urlopen\n",
    "\n",
    "import pandas as pd\n",
    "import numpy as np"
   ]
  },
  {
   "cell_type": "code",
   "execution_count": 59,
   "metadata": {},
   "outputs": [],
   "source": [
    "def make_soup(url):\n",
    "    '''\n",
    "    INPUT: url string\n",
    "    OUTPUT: BeautifulSoup object\n",
    "    '''\n",
    "    response = requests.get(url)\n",
    "    soup = BeautifulSoup(response.content, 'html.parser')\n",
    "    return soup"
   ]
  },
  {
   "cell_type": "code",
   "execution_count": 18,
   "metadata": {},
   "outputs": [],
   "source": [
    "soup1 = make_soup('https://minimalistbaker.com/recipes/')\n",
    "posts = soup1.find_all('a', class_=\"entry-title-link\")\n",
    "links = [post.get(\"href\") for post in posts]\n"
   ]
  },
  {
   "cell_type": "code",
   "execution_count": 10,
   "metadata": {},
   "outputs": [],
   "source": [
    "def get_recipe_links(url):\n",
    "    '''\n",
    "    Gets all links to recipe post on one archival page.\n",
    "    Returns list of strings containing the URLs\n",
    "    '''\n",
    "    soup = make_soup(url)\n",
    "    posts = soup.find_all('a', class_=\"entry-title-link\")\n",
    "    links = [post.get(\"href\") for post in posts]\n",
    "    return links"
   ]
  },
  {
   "cell_type": "markdown",
   "metadata": {},
   "source": [
    "Psuedocode for getting all recipe posts\n",
    "\n",
    "- for every page\n",
    "    - get the links for the posts on the page \n",
    "    - for every post on a page\n",
    "        - get the text body of that post\n",
    "        - save it into an array / dataframe\n",
    "    "
   ]
  },
  {
   "cell_type": "code",
   "execution_count": null,
   "metadata": {},
   "outputs": [],
   "source": []
  },
  {
   "cell_type": "code",
   "execution_count": 119,
   "metadata": {},
   "outputs": [],
   "source": [
    "def grab_body(url):\n",
    "    '''\n",
    "    INPUT: blog post url\n",
    "    OUTPUT: list of sentence strings\n",
    "    '''\n",
    "    soup = make_soup(url)\n",
    "    art = soup.article\n",
    "    recipe = art.find_all('div', class_=\"wprm-recipe-container\")\n",
    "    recipe_start = str(recipe[0])[:30]\n",
    "    idx = str(art).index(recipe_start)\n",
    "    data = str(art)[:idx]\n",
    "    data = re.sub(r'<.*?>', '', data)\n",
    "    data = re.sub('\\xa0', '', data)\n",
    "    data = re.sub('\\n', ' ', data)\n",
    "    return data, soup.title.text\n",
    "    \n"
   ]
  },
  {
   "cell_type": "code",
   "execution_count": 129,
   "metadata": {},
   "outputs": [],
   "source": [
    "def get_bodies_on_page(url):\n",
    "    df = pd.DataFrame(columns=['title', 'body', 'url'])\n",
    "    links = get_recipe_links(url)\n",
    "    for link in links:\n",
    "        try:\n",
    "            body, title = grab_body(link)\n",
    "            A = pd.DataFrame([[title, body, link]], columns=['title', 'body', 'url'])\n",
    "            df = pd.concat([df,A], axis=0)\n",
    "        except:\n",
    "            continue\n",
    "    return df"
   ]
  },
  {
   "cell_type": "code",
   "execution_count": 133,
   "metadata": {},
   "outputs": [],
   "source": [
    "def scrape_mb(url):\n",
    "    data = pd.DataFrame(columns=['title','body','url'])\n",
    "    data = pd.concat([data, get_bodies_on_page(url)], axis=0)\n",
    "    for n in range(2, 15):\n",
    "        print(n)\n",
    "        url = 'https://minimalistbaker.com/recipes/page/{}/'.format(n)\n",
    "        df = get_bodies_on_page(url)\n",
    "        data = pd.concat([data, df], axis=0)\n",
    "    return data"
   ]
  },
  {
   "cell_type": "code",
   "execution_count": 134,
   "metadata": {},
   "outputs": [
    {
     "name": "stdout",
     "output_type": "stream",
     "text": [
      "2\n",
      "3\n",
      "4\n",
      "5\n",
      "6\n",
      "7\n",
      "8\n",
      "9\n",
      "10\n",
      "11\n",
      "12\n",
      "13\n",
      "14\n"
     ]
    },
    {
     "data": {
      "text/html": [
       "<div>\n",
       "<style scoped>\n",
       "    .dataframe tbody tr th:only-of-type {\n",
       "        vertical-align: middle;\n",
       "    }\n",
       "\n",
       "    .dataframe tbody tr th {\n",
       "        vertical-align: top;\n",
       "    }\n",
       "\n",
       "    .dataframe thead th {\n",
       "        text-align: right;\n",
       "    }\n",
       "</style>\n",
       "<table border=\"1\" class=\"dataframe\">\n",
       "  <thead>\n",
       "    <tr style=\"text-align: right;\">\n",
       "      <th></th>\n",
       "      <th>title</th>\n",
       "      <th>body</th>\n",
       "      <th>url</th>\n",
       "    </tr>\n",
       "  </thead>\n",
       "  <tbody>\n",
       "    <tr>\n",
       "      <th>0</th>\n",
       "      <td>Fluffy Vegan Scrambled Eggs | Minimalist Baker...</td>\n",
       "      <td>Fluffy Vegan Scrambled Eggs   If you’ve ever w...</td>\n",
       "      <td>https://minimalistbaker.com/recipes/</td>\n",
       "    </tr>\n",
       "    <tr>\n",
       "      <th>0</th>\n",
       "      <td>Vegan Buttercream Frosting Recipe | Minimalist...</td>\n",
       "      <td>How to Make Vegan Buttercream Frosting  If you...</td>\n",
       "      <td>https://minimalistbaker.com/recipes/</td>\n",
       "    </tr>\n",
       "    <tr>\n",
       "      <th>0</th>\n",
       "      <td>Baked Crispy Peanut Tofu | Minimalist Baker Re...</td>\n",
       "      <td>Baked Crispy Peanut Tofu   Tofu can either be ...</td>\n",
       "      <td>https://minimalistbaker.com/recipes/</td>\n",
       "    </tr>\n",
       "    <tr>\n",
       "      <th>0</th>\n",
       "      <td>Easy 1-Pot Vegan Tom Yum Soup | Minimalist Bak...</td>\n",
       "      <td>Lazy 1-Pot Vegan Tom Yum Soup   A while back i...</td>\n",
       "      <td>https://minimalistbaker.com/recipes/</td>\n",
       "    </tr>\n",
       "    <tr>\n",
       "      <th>0</th>\n",
       "      <td>1-Bowl Chocolate Banana Baked Oatmeal | Minima...</td>\n",
       "      <td>1-Bowl Chocolate Chip Banana Baked Oatmeal   Y...</td>\n",
       "      <td>https://minimalistbaker.com/recipes/</td>\n",
       "    </tr>\n",
       "  </tbody>\n",
       "</table>\n",
       "</div>"
      ],
      "text/plain": [
       "                                               title  \\\n",
       "0  Fluffy Vegan Scrambled Eggs | Minimalist Baker...   \n",
       "0  Vegan Buttercream Frosting Recipe | Minimalist...   \n",
       "0  Baked Crispy Peanut Tofu | Minimalist Baker Re...   \n",
       "0  Easy 1-Pot Vegan Tom Yum Soup | Minimalist Bak...   \n",
       "0  1-Bowl Chocolate Banana Baked Oatmeal | Minima...   \n",
       "\n",
       "                                                body  \\\n",
       "0  Fluffy Vegan Scrambled Eggs   If you’ve ever w...   \n",
       "0  How to Make Vegan Buttercream Frosting  If you...   \n",
       "0  Baked Crispy Peanut Tofu   Tofu can either be ...   \n",
       "0  Lazy 1-Pot Vegan Tom Yum Soup   A while back i...   \n",
       "0  1-Bowl Chocolate Chip Banana Baked Oatmeal   Y...   \n",
       "\n",
       "                                    url  \n",
       "0  https://minimalistbaker.com/recipes/  \n",
       "0  https://minimalistbaker.com/recipes/  \n",
       "0  https://minimalistbaker.com/recipes/  \n",
       "0  https://minimalistbaker.com/recipes/  \n",
       "0  https://minimalistbaker.com/recipes/  "
      ]
     },
     "execution_count": 134,
     "metadata": {},
     "output_type": "execute_result"
    }
   ],
   "source": [
    "data = scrape_mb('https://minimalistbaker.com/recipes/')\n",
    "data.head()"
   ]
  },
  {
   "cell_type": "code",
   "execution_count": 135,
   "metadata": {},
   "outputs": [
    {
     "name": "stdout",
     "output_type": "stream",
     "text": [
      "<class 'pandas.core.frame.DataFrame'>\n",
      "Int64Index: 223 entries, 0 to 0\n",
      "Data columns (total 3 columns):\n",
      "title    223 non-null object\n",
      "body     223 non-null object\n",
      "url      223 non-null object\n",
      "dtypes: object(3)\n",
      "memory usage: 7.0+ KB\n"
     ]
    }
   ],
   "source": [
    "data.info()"
   ]
  },
  {
   "cell_type": "code",
   "execution_count": 98,
   "metadata": {},
   "outputs": [
    {
     "name": "stdout",
     "output_type": "stream",
     "text": [
      "<class 'bs4.element.ResultSet'>\n"
     ]
    },
    {
     "data": {
      "text/plain": [
       "'[]'"
      ]
     },
     "execution_count": 98,
     "metadata": {},
     "output_type": "execute_result"
    }
   ],
   "source": [
    "links = get_recipe_links('https://minimalistbaker.com/recipes/page/13/')\n",
    "\n",
    "#body, title = grab_body(links[1])\n",
    "soup = make_soup(links[1])\n",
    "art = soup.article\n",
    "recipe = art.find_all('div', class_=\"wprm-recipe-container\")\n",
    "print(type(recipe))\n",
    "recipe_start = str(recipe)[:30]\n",
    "recipe_start"
   ]
  },
  {
   "cell_type": "code",
   "execution_count": null,
   "metadata": {},
   "outputs": [],
   "source": []
  },
  {
   "cell_type": "code",
   "execution_count": 55,
   "metadata": {},
   "outputs": [],
   "source": [
    "df = pd.read_csv('/Users/clairemason/Galvanize/Capstone/capstone/data/minimal_bake.csv')\n",
    "df = df[['title','body']]"
   ]
  },
  {
   "cell_type": "code",
   "execution_count": 56,
   "metadata": {},
   "outputs": [
    {
     "name": "stdout",
     "output_type": "stream",
     "text": [
      "<class 'pandas.core.frame.DataFrame'>\n",
      "RangeIndex: 946 entries, 0 to 945\n",
      "Data columns (total 2 columns):\n",
      "title    946 non-null object\n",
      "body     946 non-null object\n",
      "dtypes: object(2)\n",
      "memory usage: 14.9+ KB\n"
     ]
    }
   ],
   "source": [
    "df.info()"
   ]
  },
  {
   "cell_type": "code",
   "execution_count": 57,
   "metadata": {},
   "outputs": [
    {
     "data": {
      "text/plain": [
       "'Fluffy Vegan Scrambled Eggs\\n\\n\\nIf you’ve ever wanted to make a vegan version of scrambled eggs but craved something a little more special than tofu, this is the recipe for you.\\nPerhaps you’re looking for a more “eggy” texture and flavor than tofu, want to cut back on eggs, are sensitive to soy/tofu, or just want to change up your breakfast routine.\\nIn any case, let me show you how easy it is to make these fluffy, vegan scrambled eggs!\\n\\nThis recipe is inspired by the Just Egg product everyone’s been talking about. I was so excited to see an egg product that looked (and supposedly tasted) like the real thing! The only thing I didn’t love was the addition of canola oil, which some health experts believe to be highly processed and inflammatory in the body.\\nSo, I wanted to take a swing at my own version and am pretty excited about the results.\\n\\n\\nThe base of this 9-ingredient recipe is soaked split mung beans, a.k.a. moong dal.\\nIt’s a soft legume that’s easy to digest and happens to be the color of scrambled eggs (for the win).\\nOnce soaked, it’s blended with light coconut milk for added fat (which I discovered helped things like my Buckwheat Crepes bind well without sticking to the pan).\\nFor color and flavor I added turmeric, nutritional yeast, onion powder, and black salt, a.k.a. kala namak. It’s a special seasoning that has a magical eggy flavor. It’s crazy how much it really does taste like eggs! If you don’t have black salt either order it or just use whatever salt you have on hand. It’s not absolutely essential.\\nRice flour helps thicken and give body and texture to the “eggs.” And oil adds a little bit more fat for pliability.\\nOnce blended it’s time to cook!\\n\\nI found the best method for cooking these “eggs” is in a non-stick pan (we like this one as a healthier alternative to Teflon). But you can use a well-oiled cast iron in a pinch.\\nHeat over medium-low, add just enough of the mixture to coat the pan, then cover and cook for a couple minutes.\\nThe edges should appear dry, which means it’s time to push them around with a soft spatula. Cover and cook for 1-2 minutes more for a soft scramble or up to 4-5 minutes (flipping occasionally) for a firm scramble.\\n\\nWe hope you LOVE these vegan scrambled eggs! They’re:\\nFluffy\\nEggy\\nSatisfying\\nEasy to make\\nVersatile\\n&amp; Incredibly delicious\\nThese would make the perfect thing to have on hand for easy scrambles throughout the week. Or, use as a base for things like quiche, frittatas, omelets, and more! Oh the eggy possibilities.\\nIf you’re into breakfast scrambles, also be sure to check out our Southwest Tofu Scramble, Masala-Spiced Tofu Scramble, Sweet Potato Kale Hash, and Fluffy Chickpea Scramble.\\nIf you try this recipe, let us know! Leave a comment, rate it, and don’t forget to tag a photo #minimalistbaker on Instagram. Cheers, friends!\\n\\n'"
      ]
     },
     "execution_count": 57,
     "metadata": {},
     "output_type": "execute_result"
    }
   ],
   "source": [
    "df.body.iloc[0]"
   ]
  },
  {
   "cell_type": "code",
   "execution_count": 16,
   "metadata": {},
   "outputs": [],
   "source": [
    "from nltk import sent_tokenize"
   ]
  },
  {
   "cell_type": "code",
   "execution_count": 49,
   "metadata": {},
   "outputs": [],
   "source": [
    "def split_sentences(body):\n",
    "    sents = sent_tokenize(body)\n",
    "    new = ''\n",
    "    for i, sent in enumerate(sents):\n",
    "        if '\\n' in sent:\n",
    "            new += sents.pop(i)\n",
    "    new = [line for line in new.split('\\n') if line and len(line)>1]        \n",
    "    sents += new\n",
    "    return sents"
   ]
  },
  {
   "cell_type": "code",
   "execution_count": 50,
   "metadata": {},
   "outputs": [],
   "source": [
    "sents_series = pd.Series([split_sentences(df.body.iloc[i]) for i in range(len(df))])"
   ]
  },
  {
   "cell_type": "code",
   "execution_count": 51,
   "metadata": {},
   "outputs": [
    {
     "name": "stdout",
     "output_type": "stream",
     "text": [
      "27176\n"
     ]
    }
   ],
   "source": [
    "tot = 0\n",
    "for i in sents_series:\n",
    "    tot += len(i)\n",
    "print(tot)"
   ]
  },
  {
   "cell_type": "code",
   "execution_count": 71,
   "metadata": {},
   "outputs": [],
   "source": [
    "def get_recipe_instructions()\n",
    "    soup = make_soup('https://minimalistbaker.com/30-minute-potato-cauliflower-red-lentil-curry/')\n",
    "    recipe = soup.find_all('div', class_=\"wprm-recipe-instruction-text\")\n",
    "\n",
    "    instructions = [instruct.text for instruct in recipe]\n",
    "    ins_str = []\n",
    "    for instruct in instructions:\n",
    "        for sent in sent_tokenize(instruct):\n",
    "            ins_str.append(sent)\n",
    "\n",
    "    return ins_str"
   ]
  }
 ],
 "metadata": {
  "kernelspec": {
   "display_name": "Python 3",
   "language": "python",
   "name": "python3"
  },
  "language_info": {
   "codemirror_mode": {
    "name": "ipython",
    "version": 3
   },
   "file_extension": ".py",
   "mimetype": "text/x-python",
   "name": "python",
   "nbconvert_exporter": "python",
   "pygments_lexer": "ipython3",
   "version": "3.6.7"
  }
 },
 "nbformat": 4,
 "nbformat_minor": 2
}
