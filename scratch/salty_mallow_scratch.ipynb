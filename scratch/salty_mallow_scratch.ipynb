{
 "cells": [
  {
   "cell_type": "code",
   "execution_count": 1,
   "metadata": {},
   "outputs": [],
   "source": [
    "from bs4 import BeautifulSoup\n",
    "import requests\n",
    "import urllib\n",
    "import os\n",
    "import re\n",
    "from urllib.request import urlopen\n",
    "\n",
    "import pandas as pd\n",
    "import numpy as np"
   ]
  },
  {
   "cell_type": "code",
   "execution_count": 2,
   "metadata": {},
   "outputs": [],
   "source": [
    "def make_soup(url):\n",
    "    '''\n",
    "    INPUT: url string\n",
    "    OUTPUT: BeautifulSoup object\n",
    "    '''\n",
    "    response = requests.get(url)\n",
    "    soup = BeautifulSoup(response.content, 'html.parser')\n",
    "    return soup"
   ]
  },
  {
   "cell_type": "code",
   "execution_count": 3,
   "metadata": {},
   "outputs": [],
   "source": [
    "def grab_body(url):\n",
    "    '''\n",
    "    INPUT: blog post url\n",
    "    OUTPUT: list of sentence strings\n",
    "    '''\n",
    "    soup = make_soup(url)\n",
    "    art = soup.article\n",
    "    recipe = art.find('div', class_=\"wprm-recipe-container\")\n",
    "    recipe_start = str(recipe)[:30]\n",
    "    idx = str(art).index(recipe_start)\n",
    "    data = str(art)[:idx]\n",
    "    data = re.sub(r'<.*?>', '', data)\n",
    "    data = re.sub('\\xa0', '', data)\n",
    "    data = re.sub('\\n', ' ', data)\n",
    "    return data, soup.title.text"
   ]
  },
  {
   "cell_type": "code",
   "execution_count": 58,
   "metadata": {},
   "outputs": [],
   "source": [
    "def get_bodies_on_page(url):\n",
    "    df = pd.DataFrame(columns=['title', 'body', 'url'])\n",
    "    links = get_recipe_links(url)\n",
    "    for link in links:\n",
    "        try:\n",
    "            body, title = grab_body(link)\n",
    "            A = pd.DataFrame([[title, body, link]], columns=['title', 'body', 'url'])\n",
    "            df = pd.concat([df,A], axis=0, ignore_index=True)\n",
    "        except:\n",
    "            continue\n",
    "    return df"
   ]
  },
  {
   "cell_type": "code",
   "execution_count": 65,
   "metadata": {},
   "outputs": [],
   "source": [
    "def get_categories(url):\n",
    "    soup = make_soup(url)\n",
    "    cats = soup.find_all('option', class_='level-0')\n",
    "    cat_names = [cat.text.lower() for cat in cats]\n",
    "    # remove duplicates\n",
    "    return cat_names[25:]"
   ]
  },
  {
   "cell_type": "code",
   "execution_count": 45,
   "metadata": {},
   "outputs": [],
   "source": [
    "def get_recipe_links(url):\n",
    "    soup = make_soup(url)\n",
    "    links = [link.get(\"href\") for link in soup.find_all('a', class_='more-link')]\n",
    "    return links"
   ]
  },
  {
   "cell_type": "markdown",
   "metadata": {},
   "source": [
    "- for each category\n",
    "    - for each page\n",
    "        - get body from each recipe on page"
   ]
  },
  {
   "cell_type": "code",
   "execution_count": 74,
   "metadata": {},
   "outputs": [],
   "source": [
    "cats = ['pasta', 'breakfast']\n",
    "final = pd.DataFrame(columns = ['title','body','url'])\n",
    "for cat in cats:\n",
    "    url = 'https://thesaltymarshmallow.com/category/{}/'.format(cat)\n",
    "    i = 0\n",
    "    \n",
    "    data = pd.DataFrame(columns=['title','body','url'])\n",
    "    data = pd.concat([data, get_bodies_on_page(url)], axis=0, ignore_index=True)\n",
    "    \n",
    "    url_next = get_next_page(url)\n",
    "    while i < 37:\n",
    "        try:\n",
    "            url = get_next_page(url)\n",
    "            data = pd.concat([data, get_bodies_on_page(url)], axis=0, ignore_index=True)\n",
    "            i += 1\n",
    "        except:\n",
    "            i+=1\n",
    "            continue\n",
    "    final = pd.concat([final, data], axis=0, ignore_index=True)\n",
    "    "
   ]
  },
  {
   "cell_type": "code",
   "execution_count": 75,
   "metadata": {},
   "outputs": [
    {
     "name": "stdout",
     "output_type": "stream",
     "text": [
      "<class 'pandas.core.frame.DataFrame'>\n",
      "RangeIndex: 46 entries, 0 to 45\n",
      "Data columns (total 3 columns):\n",
      "title    46 non-null object\n",
      "body     46 non-null object\n",
      "url      46 non-null object\n",
      "dtypes: object(3)\n",
      "memory usage: 1.2+ KB\n"
     ]
    }
   ],
   "source": [
    "final.info()"
   ]
  },
  {
   "cell_type": "code",
   "execution_count": null,
   "metadata": {},
   "outputs": [],
   "source": []
  },
  {
   "cell_type": "code",
   "execution_count": 57,
   "metadata": {},
   "outputs": [],
   "source": [
    "def get_next_page(url):\n",
    "    soup = make_soup(url)\n",
    "    next_ = soup.find('li', class_=\"pagination-next\").find(\"a\").get(\"href\")\n",
    "    return next_"
   ]
  },
  {
   "cell_type": "code",
   "execution_count": 55,
   "metadata": {},
   "outputs": [
    {
     "data": {
      "text/plain": [
       "'https://thesaltymarshmallow.com/category/dinner/page/2/'"
      ]
     },
     "execution_count": 55,
     "metadata": {},
     "output_type": "execute_result"
    }
   ],
   "source": [
    "a.find(\"a\").get(\"href\")"
   ]
  },
  {
   "cell_type": "code",
   "execution_count": 79,
   "metadata": {},
   "outputs": [
    {
     "name": "stdout",
     "output_type": "stream",
     "text": [
      "<class 'pandas.core.frame.DataFrame'>\n",
      "Index: 0 entries\n",
      "Data columns (total 4 columns):\n",
      "Unnamed: 0    0 non-null object\n",
      "title         0 non-null object\n",
      "body          0 non-null object\n",
      "url           0 non-null object\n",
      "dtypes: object(4)\n",
      "memory usage: 0.0+ bytes\n"
     ]
    }
   ],
   "source": [
    "test = pd.read_csv('/Users/clairemason/Galvanize/Capstone/capstone/data/salty_mallow.csv')\n",
    "test.info()"
   ]
  },
  {
   "cell_type": "code",
   "execution_count": 73,
   "metadata": {},
   "outputs": [
    {
     "data": {
      "text/plain": [
       "['appetizers',\n",
       " 'bars',\n",
       " 'beverages',\n",
       " 'breads',\n",
       " 'breakfast',\n",
       " 'brownies',\n",
       " 'cake',\n",
       " 'casserole',\n",
       " 'chicken',\n",
       " 'cookies',\n",
       " 'cupcakes',\n",
       " 'dessert',\n",
       " 'dinner',\n",
       " 'dips',\n",
       " 'donuts',\n",
       " 'eats',\n",
       " 'grain/gluten free',\n",
       " 'instant pot recipes',\n",
       " 'muffins',\n",
       " 'one pot',\n",
       " 'pasta',\n",
       " 'pasta',\n",
       " 'popular',\n",
       " 'salad',\n",
       " 'scones',\n",
       " 'side dishes',\n",
       " 'slow cooker',\n",
       " 'snacks',\n",
       " 'soup',\n",
       " 'sweets',\n",
       " 'uncategorized',\n",
       " 'video']"
      ]
     },
     "execution_count": 73,
     "metadata": {},
     "output_type": "execute_result"
    }
   ],
   "source": [
    "get_categories('https://thesaltymarshmallow.com/recipes/')"
   ]
  },
  {
   "cell_type": "code",
   "execution_count": null,
   "metadata": {},
   "outputs": [],
   "source": []
  },
  {
   "cell_type": "code",
   "execution_count": null,
   "metadata": {},
   "outputs": [],
   "source": []
  }
 ],
 "metadata": {
  "kernelspec": {
   "display_name": "Python 3",
   "language": "python",
   "name": "python3"
  },
  "language_info": {
   "codemirror_mode": {
    "name": "ipython",
    "version": 3
   },
   "file_extension": ".py",
   "mimetype": "text/x-python",
   "name": "python",
   "nbconvert_exporter": "python",
   "pygments_lexer": "ipython3",
   "version": "3.6.7"
  }
 },
 "nbformat": 4,
 "nbformat_minor": 2
}
