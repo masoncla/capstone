{
 "cells": [
  {
   "cell_type": "code",
   "execution_count": 1,
   "metadata": {},
   "outputs": [],
   "source": [
    "from bs4 import BeautifulSoup\n",
    "import requests\n",
    "import urllib\n",
    "import os\n",
    "import re\n",
    "from urllib.request import urlopen\n",
    "\n",
    "import pandas as pd\n",
    "import numpy as np"
   ]
  },
  {
   "cell_type": "code",
   "execution_count": 2,
   "metadata": {},
   "outputs": [],
   "source": [
    "def make_soup(url):\n",
    "    '''\n",
    "    INPUT: url string\n",
    "    OUTPUT: BeautifulSoup object\n",
    "    '''\n",
    "    response = requests.get(url)\n",
    "    soup = BeautifulSoup(response.content, 'html.parser')\n",
    "    return soup"
   ]
  },
  {
   "cell_type": "code",
   "execution_count": 3,
   "metadata": {},
   "outputs": [],
   "source": [
    "def grab_body(url):\n",
    "    '''\n",
    "    INPUT: blog post url\n",
    "    OUTPUT: list of sentence strings\n",
    "    '''\n",
    "    soup = make_soup(url)\n",
    "    art = soup.article\n",
    "    recipe = art.find('div', class_=\"wprm-recipe-container\")\n",
    "    recipe_start = str(recipe)[:30]\n",
    "    idx = str(art).index(recipe_start)\n",
    "    data = str(art)[:idx]\n",
    "    data = re.sub(r'<.*?>', '', data)\n",
    "    data = re.sub('\\xa0', '', data)\n",
    "    data = re.sub('\\n', ' ', data)\n",
    "    return data, soup.title.text"
   ]
  },
  {
   "cell_type": "code",
   "execution_count": 4,
   "metadata": {},
   "outputs": [],
   "source": [
    "def get_bodies_on_page(url):\n",
    "    df = pd.DataFrame(columns=['title', 'body', 'url'])\n",
    "    links = get_recipe_links(url)\n",
    "    for link in links:\n",
    "        try:\n",
    "            body, title = grab_body(link)\n",
    "            A = pd.DataFrame([[title, body, link]], columns=['title', 'body', 'url'])\n",
    "            df = pd.concat([df,A], axis=0)\n",
    "        except:\n",
    "            continue\n",
    "    return df"
   ]
  },
  {
   "cell_type": "code",
   "execution_count": 37,
   "metadata": {},
   "outputs": [],
   "source": [
    "def get_categories(url):\n",
    "    soup = make_soup(url)\n",
    "    cats = soup.find_all('option', class_='level-0')\n",
    "    cat_names = [cat.text for cat in cats]\n",
    "    # remove duplicates\n",
    "    return cat_names[25:]"
   ]
  },
  {
   "cell_type": "code",
   "execution_count": 43,
   "metadata": {},
   "outputs": [],
   "source": [
    "def get__recipe_links(url):\n",
    "    soup = make_soup(url)\n",
    "    links = [link.get(\"href\") for link in soup.find_all('a', class_='more-link')]\n",
    "    return links"
   ]
  },
  {
   "cell_type": "markdown",
   "metadata": {},
   "source": [
    "- for each category\n",
    "    - for each page\n",
    "        - get body from each recipe on page"
   ]
  },
  {
   "cell_type": "code",
   "execution_count": null,
   "metadata": {},
   "outputs": [],
   "source": []
  }
 ],
 "metadata": {
  "kernelspec": {
   "display_name": "Python 3",
   "language": "python",
   "name": "python3"
  },
  "language_info": {
   "codemirror_mode": {
    "name": "ipython",
    "version": 3
   },
   "file_extension": ".py",
   "mimetype": "text/x-python",
   "name": "python",
   "nbconvert_exporter": "python",
   "pygments_lexer": "ipython3",
   "version": "3.6.7"
  }
 },
 "nbformat": 4,
 "nbformat_minor": 2
}
