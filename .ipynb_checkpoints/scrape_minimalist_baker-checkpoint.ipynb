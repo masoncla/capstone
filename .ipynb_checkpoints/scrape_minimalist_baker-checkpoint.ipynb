{
 "cells": [
  {
   "cell_type": "code",
   "execution_count": 1,
   "metadata": {},
   "outputs": [],
   "source": [
    "from bs4 import BeautifulSoup\n",
    "import requests\n",
    "import urllib\n",
    "import os\n",
    "import re\n",
    "from urllib.request import urlopen\n",
    "\n",
    "import pandas as pd\n",
    "import numpy as np"
   ]
  },
  {
   "cell_type": "code",
   "execution_count": 2,
   "metadata": {},
   "outputs": [],
   "source": [
    "from scrape import make_soup"
   ]
  },
  {
   "cell_type": "code",
   "execution_count": 18,
   "metadata": {},
   "outputs": [],
   "source": [
    "soup1 = make_soup('https://minimalistbaker.com/recipes/')\n",
    "posts = soup1.find_all('a', class_=\"entry-title-link\")\n",
    "links = [post.get(\"href\") for post in posts]\n"
   ]
  },
  {
   "cell_type": "code",
   "execution_count": 10,
   "metadata": {},
   "outputs": [],
   "source": [
    "def get_recipe_links(url):\n",
    "    '''\n",
    "    Gets all links to recipe post on one archival page.\n",
    "    Returns list of strings containing the URLs\n",
    "    '''\n",
    "    soup = make_soup(url)\n",
    "    posts = soup.find_all('a', class_=\"entry-title-link\")\n",
    "    links = [post.get(\"href\") for post in posts]\n",
    "    return links"
   ]
  },
  {
   "cell_type": "markdown",
   "metadata": {},
   "source": [
    "Psuedocode for getting all recipe posts\n",
    "\n",
    "- for every page\n",
    "    - get the links for the posts on the page \n",
    "    - for every post on a page\n",
    "        - get the text body of that post\n",
    "        - save it into an array / dataframe\n",
    "    "
   ]
  },
  {
   "cell_type": "code",
   "execution_count": null,
   "metadata": {},
   "outputs": [],
   "source": []
  },
  {
   "cell_type": "code",
   "execution_count": 119,
   "metadata": {},
   "outputs": [],
   "source": [
    "def grab_body(url):\n",
    "    '''\n",
    "    INPUT: blog post url\n",
    "    OUTPUT: list of sentence strings\n",
    "    '''\n",
    "    soup = make_soup(url)\n",
    "    art = soup.article\n",
    "    recipe = art.find_all('div', class_=\"wprm-recipe-container\")\n",
    "    recipe_start = str(recipe[0])[:30]\n",
    "    idx = str(art).index(recipe_start)\n",
    "    data = str(art)[:idx]\n",
    "    data = re.sub(r'<.*?>', '', data)\n",
    "    data = re.sub('\\xa0', '', data)\n",
    "    data = re.sub('\\n', ' ', data)\n",
    "    return data, soup.title.text\n",
    "    \n"
   ]
  },
  {
   "cell_type": "code",
   "execution_count": 129,
   "metadata": {},
   "outputs": [],
   "source": [
    "def get_bodies_on_page(url):\n",
    "    df = pd.DataFrame(columns=['title', 'body', 'url'])\n",
    "    links = get_recipe_links(url)\n",
    "    for link in links:\n",
    "        try:\n",
    "            body, title = grab_body(link)\n",
    "            A = pd.DataFrame([[title, body, link]], columns=['title', 'body', 'url'])\n",
    "            df = pd.concat([df,A], axis=0)\n",
    "        except:\n",
    "            continue\n",
    "    return df"
   ]
  },
  {
   "cell_type": "code",
   "execution_count": 133,
   "metadata": {},
   "outputs": [],
   "source": [
    "def scrape_mb(url):\n",
    "    data = pd.DataFrame(columns=['title','body','url'])\n",
    "    data = pd.concat([data, get_bodies_on_page(url)], axis=0)\n",
    "    for n in range(2, 15):\n",
    "        print(n)\n",
    "        url = 'https://minimalistbaker.com/recipes/page/{}/'.format(n)\n",
    "        df = get_bodies_on_page(url)\n",
    "        data = pd.concat([data, df], axis=0)\n",
    "    return data"
   ]
  },
  {
   "cell_type": "code",
   "execution_count": 134,
   "metadata": {},
   "outputs": [
    {
     "name": "stdout",
     "output_type": "stream",
     "text": [
      "2\n",
      "3\n",
      "4\n",
      "5\n",
      "6\n",
      "7\n",
      "8\n",
      "9\n",
      "10\n",
      "11\n",
      "12\n",
      "13\n",
      "14\n"
     ]
    },
    {
     "data": {
      "text/html": [
       "<div>\n",
       "<style scoped>\n",
       "    .dataframe tbody tr th:only-of-type {\n",
       "        vertical-align: middle;\n",
       "    }\n",
       "\n",
       "    .dataframe tbody tr th {\n",
       "        vertical-align: top;\n",
       "    }\n",
       "\n",
       "    .dataframe thead th {\n",
       "        text-align: right;\n",
       "    }\n",
       "</style>\n",
       "<table border=\"1\" class=\"dataframe\">\n",
       "  <thead>\n",
       "    <tr style=\"text-align: right;\">\n",
       "      <th></th>\n",
       "      <th>title</th>\n",
       "      <th>body</th>\n",
       "      <th>url</th>\n",
       "    </tr>\n",
       "  </thead>\n",
       "  <tbody>\n",
       "    <tr>\n",
       "      <th>0</th>\n",
       "      <td>Fluffy Vegan Scrambled Eggs | Minimalist Baker...</td>\n",
       "      <td>Fluffy Vegan Scrambled Eggs   If you’ve ever w...</td>\n",
       "      <td>https://minimalistbaker.com/recipes/</td>\n",
       "    </tr>\n",
       "    <tr>\n",
       "      <th>0</th>\n",
       "      <td>Vegan Buttercream Frosting Recipe | Minimalist...</td>\n",
       "      <td>How to Make Vegan Buttercream Frosting  If you...</td>\n",
       "      <td>https://minimalistbaker.com/recipes/</td>\n",
       "    </tr>\n",
       "    <tr>\n",
       "      <th>0</th>\n",
       "      <td>Baked Crispy Peanut Tofu | Minimalist Baker Re...</td>\n",
       "      <td>Baked Crispy Peanut Tofu   Tofu can either be ...</td>\n",
       "      <td>https://minimalistbaker.com/recipes/</td>\n",
       "    </tr>\n",
       "    <tr>\n",
       "      <th>0</th>\n",
       "      <td>Easy 1-Pot Vegan Tom Yum Soup | Minimalist Bak...</td>\n",
       "      <td>Lazy 1-Pot Vegan Tom Yum Soup   A while back i...</td>\n",
       "      <td>https://minimalistbaker.com/recipes/</td>\n",
       "    </tr>\n",
       "    <tr>\n",
       "      <th>0</th>\n",
       "      <td>1-Bowl Chocolate Banana Baked Oatmeal | Minima...</td>\n",
       "      <td>1-Bowl Chocolate Chip Banana Baked Oatmeal   Y...</td>\n",
       "      <td>https://minimalistbaker.com/recipes/</td>\n",
       "    </tr>\n",
       "  </tbody>\n",
       "</table>\n",
       "</div>"
      ],
      "text/plain": [
       "                                               title  \\\n",
       "0  Fluffy Vegan Scrambled Eggs | Minimalist Baker...   \n",
       "0  Vegan Buttercream Frosting Recipe | Minimalist...   \n",
       "0  Baked Crispy Peanut Tofu | Minimalist Baker Re...   \n",
       "0  Easy 1-Pot Vegan Tom Yum Soup | Minimalist Bak...   \n",
       "0  1-Bowl Chocolate Banana Baked Oatmeal | Minima...   \n",
       "\n",
       "                                                body  \\\n",
       "0  Fluffy Vegan Scrambled Eggs   If you’ve ever w...   \n",
       "0  How to Make Vegan Buttercream Frosting  If you...   \n",
       "0  Baked Crispy Peanut Tofu   Tofu can either be ...   \n",
       "0  Lazy 1-Pot Vegan Tom Yum Soup   A while back i...   \n",
       "0  1-Bowl Chocolate Chip Banana Baked Oatmeal   Y...   \n",
       "\n",
       "                                    url  \n",
       "0  https://minimalistbaker.com/recipes/  \n",
       "0  https://minimalistbaker.com/recipes/  \n",
       "0  https://minimalistbaker.com/recipes/  \n",
       "0  https://minimalistbaker.com/recipes/  \n",
       "0  https://minimalistbaker.com/recipes/  "
      ]
     },
     "execution_count": 134,
     "metadata": {},
     "output_type": "execute_result"
    }
   ],
   "source": [
    "data = scrape_mb('https://minimalistbaker.com/recipes/')\n",
    "data.head()"
   ]
  },
  {
   "cell_type": "code",
   "execution_count": 135,
   "metadata": {},
   "outputs": [
    {
     "name": "stdout",
     "output_type": "stream",
     "text": [
      "<class 'pandas.core.frame.DataFrame'>\n",
      "Int64Index: 223 entries, 0 to 0\n",
      "Data columns (total 3 columns):\n",
      "title    223 non-null object\n",
      "body     223 non-null object\n",
      "url      223 non-null object\n",
      "dtypes: object(3)\n",
      "memory usage: 7.0+ KB\n"
     ]
    }
   ],
   "source": [
    "data.info()"
   ]
  },
  {
   "cell_type": "code",
   "execution_count": 98,
   "metadata": {},
   "outputs": [
    {
     "name": "stdout",
     "output_type": "stream",
     "text": [
      "<class 'bs4.element.ResultSet'>\n"
     ]
    },
    {
     "data": {
      "text/plain": [
       "'[]'"
      ]
     },
     "execution_count": 98,
     "metadata": {},
     "output_type": "execute_result"
    }
   ],
   "source": [
    "links = get_recipe_links('https://minimalistbaker.com/recipes/page/13/')\n",
    "\n",
    "#body, title = grab_body(links[1])\n",
    "soup = make_soup(links[1])\n",
    "art = soup.article\n",
    "recipe = art.find_all('div', class_=\"wprm-recipe-container\")\n",
    "print(type(recipe))\n",
    "recipe_start = str(recipe)[:30]\n",
    "recipe_start"
   ]
  },
  {
   "cell_type": "code",
   "execution_count": null,
   "metadata": {},
   "outputs": [],
   "source": []
  },
  {
   "cell_type": "code",
   "execution_count": 127,
   "metadata": {},
   "outputs": [],
   "source": [
    "test = pd.read_csv('data/minimal_bake.csv')\n",
    "test = test[['title','body','url']]"
   ]
  },
  {
   "cell_type": "code",
   "execution_count": 128,
   "metadata": {},
   "outputs": [
    {
     "name": "stdout",
     "output_type": "stream",
     "text": [
      "<class 'pandas.core.frame.DataFrame'>\n",
      "RangeIndex: 192 entries, 0 to 191\n",
      "Data columns (total 3 columns):\n",
      "title    192 non-null object\n",
      "body     192 non-null object\n",
      "url      192 non-null object\n",
      "dtypes: object(3)\n",
      "memory usage: 4.6+ KB\n"
     ]
    }
   ],
   "source": [
    "test.info()"
   ]
  },
  {
   "cell_type": "code",
   "execution_count": 106,
   "metadata": {},
   "outputs": [
    {
     "data": {
      "text/plain": [
       "3840"
      ]
     },
     "execution_count": 106,
     "metadata": {},
     "output_type": "execute_result"
    }
   ],
   "source": []
  },
  {
   "cell_type": "code",
   "execution_count": null,
   "metadata": {},
   "outputs": [],
   "source": []
  }
 ],
 "metadata": {
  "kernelspec": {
   "display_name": "Python 3",
   "language": "python",
   "name": "python3"
  },
  "language_info": {
   "codemirror_mode": {
    "name": "ipython",
    "version": 3
   },
   "file_extension": ".py",
   "mimetype": "text/x-python",
   "name": "python",
   "nbconvert_exporter": "python",
   "pygments_lexer": "ipython3",
   "version": "3.6.7"
  }
 },
 "nbformat": 4,
 "nbformat_minor": 2
}
